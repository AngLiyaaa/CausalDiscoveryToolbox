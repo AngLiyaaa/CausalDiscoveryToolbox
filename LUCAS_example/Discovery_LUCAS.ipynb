{
 "cells": [
  {
   "cell_type": "markdown",
   "metadata": {},
   "source": [
    "# CGNN Example on the LUCAS (LUng CAncer Simple set) dataset \n",
    "\n",
    "Source : www.causality.inf.ethz.ch/data/LUCAS.html\n",
    "\n",
    "The true dataset is the **lucas0_train.csv** file ; we use the **NUM_LUCAS.csv** file, representing a graph with continuous data which structure is the same as the true LUCAS dataset.\n",
    "**Goal** : Find the causal structure of the graph using CGNN, starting from the raw data."
   ]
  },
  {
   "cell_type": "code",
   "execution_count": 1,
   "metadata": {},
   "outputs": [
    {
     "name": "stderr",
     "output_type": "stream",
     "text": [
      "/home/diviyan/miniconda2/envs/py35/lib/python3.5/site-packages/rpy2/rinterface/__init__.py:145: RRuntimeWarning: Error in loadNamespace(name) : there is no package called ‘minet’\n",
      "\n",
      "  warnings.warn(x, RRuntimeWarning)\n",
      "/home/diviyan/phd/CausalDiscoveryToolbox/cdt/utils/R.py:34: UserWarning: R wrapper is not available : Error in loadNamespace(name) : there is no package called ‘minet’\n",
      "\n",
      "  warnings.warn(\"R wrapper is not available : {}\".format(e))\n"
     ]
    }
   ],
   "source": [
    "#Import libraries\n",
    "import cdt \n",
    "# A warning on R libraries might occur. It is for the use of the r libraries that could be imported into the framework\n",
    "import numpy as np\n",
    "import pandas as pd\n",
    "\n",
    "#Hardware parameters\n",
    "cdt.SETTINGS.GPU = True\n",
    "cdt.SETTINGS.NB_GPU = 4\n",
    "cdt.SETTINGS.NB_JOBS = 8\n",
    "\n",
    "#Settings for CGNN\n",
    "cdt.CGNN_SETTINGS.use_Fast_MMD = False\n",
    "cdt.CGNN_SETTINGS.NB_RUNS = 8\n",
    "cdt.CGNN_SETTINGS.NB_MAX_RUNS = 16\n",
    "\n",
    "#Settings for Feature Selection\n",
    "cdt.CGNN_SETTINGS.nb_run_feature_selection = 16\n",
    "cdt.CGNN_SETTINGS.regul_param = 0.004\n",
    "cdt.CGNN_SETTINGS.threshold_UMG = 0.13     "
   ]
  },
  {
   "cell_type": "code",
   "execution_count": 7,
   "metadata": {},
   "outputs": [
    {
     "data": {
      "image/png": "[encoded data removed]",
      "text/plain": [
       "<matplotlib.figure.Figure at 0x7f78809c6128>"
      ]
     },
     "metadata": {},
     "output_type": "display_data"
    },
    {
     "data": {
      "text/html": [
       "<div>\n",
       "<style>\n",
       "    .dataframe thead tr:only-child th {\n",
       "        text-align: right;\n",
       "    }\n",
       "\n",
       "    .dataframe thead th {\n",
       "        text-align: left;\n",
       "    }\n",
       "\n",
       "    .dataframe tbody tr th {\n",
       "        vertical-align: top;\n",
       "    }\n",
       "</style>\n",
       "<table border=\"1\" class=\"dataframe\">\n",
       "  <thead>\n",
       "    <tr style=\"text-align: right;\">\n",
       "      <th></th>\n",
       "      <th>Allergy</th>\n",
       "      <th>Anxiety</th>\n",
       "      <th>Genetics</th>\n",
       "      <th>Peer_Pressure</th>\n",
       "      <th>Attention_Disorder</th>\n",
       "      <th>Smoking</th>\n",
       "      <th>Lung_Cancer</th>\n",
       "      <th>Yellow_Fingers</th>\n",
       "      <th>Coughing</th>\n",
       "      <th>Fatigue</th>\n",
       "      <th>Car_Accident</th>\n",
       "    </tr>\n",
       "  </thead>\n",
       "  <tbody>\n",
       "    <tr>\n",
       "      <th>0</th>\n",
       "      <td>-0.266076</td>\n",
       "      <td>0.460788</td>\n",
       "      <td>-0.359440</td>\n",
       "      <td>-0.403187</td>\n",
       "      <td>-0.228317</td>\n",
       "      <td>1.334455</td>\n",
       "      <td>0.574623</td>\n",
       "      <td>1.163336</td>\n",
       "      <td>0.982726</td>\n",
       "      <td>-0.840672</td>\n",
       "      <td>-0.508322</td>\n",
       "    </tr>\n",
       "    <tr>\n",
       "      <th>1</th>\n",
       "      <td>-0.579084</td>\n",
       "      <td>-0.846836</td>\n",
       "      <td>-0.295204</td>\n",
       "      <td>0.302683</td>\n",
       "      <td>-0.256269</td>\n",
       "      <td>-1.637193</td>\n",
       "      <td>-1.395067</td>\n",
       "      <td>0.154516</td>\n",
       "      <td>0.341314</td>\n",
       "      <td>0.933638</td>\n",
       "      <td>-1.075662</td>\n",
       "    </tr>\n",
       "    <tr>\n",
       "      <th>2</th>\n",
       "      <td>-0.105876</td>\n",
       "      <td>0.603170</td>\n",
       "      <td>-0.246007</td>\n",
       "      <td>-0.066926</td>\n",
       "      <td>-0.100983</td>\n",
       "      <td>0.500359</td>\n",
       "      <td>0.329122</td>\n",
       "      <td>0.199425</td>\n",
       "      <td>0.314847</td>\n",
       "      <td>-0.143226</td>\n",
       "      <td>-0.755328</td>\n",
       "    </tr>\n",
       "    <tr>\n",
       "      <th>3</th>\n",
       "      <td>0.727293</td>\n",
       "      <td>-0.949493</td>\n",
       "      <td>0.749637</td>\n",
       "      <td>-0.595794</td>\n",
       "      <td>0.809405</td>\n",
       "      <td>-0.586919</td>\n",
       "      <td>-0.130269</td>\n",
       "      <td>-0.840610</td>\n",
       "      <td>-0.691177</td>\n",
       "      <td>0.303761</td>\n",
       "      <td>-0.431910</td>\n",
       "    </tr>\n",
       "    <tr>\n",
       "      <th>4</th>\n",
       "      <td>-0.175018</td>\n",
       "      <td>-0.820478</td>\n",
       "      <td>-0.432949</td>\n",
       "      <td>-0.729511</td>\n",
       "      <td>-0.753609</td>\n",
       "      <td>-0.219810</td>\n",
       "      <td>-0.700120</td>\n",
       "      <td>-0.733240</td>\n",
       "      <td>-0.149308</td>\n",
       "      <td>0.854195</td>\n",
       "      <td>-0.633940</td>\n",
       "    </tr>\n",
       "  </tbody>\n",
       "</table>\n",
       "</div>"
      ],
      "text/plain": [
       "    Allergy   Anxiety  Genetics  Peer_Pressure  Attention_Disorder   Smoking  \\\n",
       "0 -0.266076  0.460788 -0.359440      -0.403187           -0.228317  1.334455   \n",
       "1 -0.579084 -0.846836 -0.295204       0.302683           -0.256269 -1.637193   \n",
       "2 -0.105876  0.603170 -0.246007      -0.066926           -0.100983  0.500359   \n",
       "3  0.727293 -0.949493  0.749637      -0.595794            0.809405 -0.586919   \n",
       "4 -0.175018 -0.820478 -0.432949      -0.729511           -0.753609 -0.219810   \n",
       "\n",
       "   Lung_Cancer  Yellow_Fingers  Coughing   Fatigue  Car_Accident  \n",
       "0     0.574623        1.163336  0.982726 -0.840672     -0.508322  \n",
       "1    -1.395067        0.154516  0.341314  0.933638     -1.075662  \n",
       "2     0.329122        0.199425  0.314847 -0.143226     -0.755328  \n",
       "3    -0.130269       -0.840610 -0.691177  0.303761     -0.431910  \n",
       "4    -0.700120       -0.733240 -0.149308  0.854195     -0.633940  "
      ]
     },
     "execution_count": 7,
     "metadata": {},
     "output_type": "execute_result"
    }
   ],
   "source": [
    "# Load data and graph solution\n",
    "data = pd.read_csv(\"NUM_LUCAS.csv\")\n",
    "solution = cdt.DirectedGraph(pd.read_csv(\"Lucas_graph.csv\"))  \n",
    "solution.plot() # The plot function allows for quick visualization of the graph. \n",
    "# For a more detailed view of the network, please use the .to_list() function to export the graph to another format  \n",
    "# importable by other libraries (graphviz, gephi).\n",
    "data.head()"
   ]
  },
  {
   "cell_type": "code",
   "execution_count": 8,
   "metadata": {
    "collapsed": true
   },
   "outputs": [],
   "source": [
    "       "
   ]
  },
  {
   "cell_type": "code",
   "execution_count": null,
   "metadata": {
    "collapsed": true
   },
   "outputs": [],
   "source": [
    "# Finding the structure of the graph\n",
    "from cdt.independence.graph import FSGNN\n",
    "Fsgnn = FSGNN()\n",
    "ugraph = Fsgnn.create_skeleton_from_data(data)\n",
    "ugraph.plot()"
   ]
  },
  {
   "cell_type": "code",
   "execution_count": null,
   "metadata": {
    "collapsed": true
   },
   "outputs": [],
   "source": [
    "# Orient the edges of the graph\n",
    "from cdt.causality.pairwise import CGNN\n",
    "Cgnn = CGNN(backend=\"TensorFlow\")\n",
    "dgraph = Cgnn.predict(data, graph=ugraph)\n",
    "\n",
    "# Plot the output graph\n",
    "dgraph.plot()\n",
    "\n",
    "# Data can be generated using the graph output, with the method CGNN_generator_tf from cdt.generators.generators"
   ]
  }
 ],
 "metadata": {
  "kernelspec": {
   "display_name": "Python 3",
   "language": "python",
   "name": "python3"
  },
  "language_info": {
   "codemirror_mode": {
    "name": "ipython",
    "version": 3
   },
   "file_extension": ".py",
   "mimetype": "text/x-python",
   "name": "python",
   "nbconvert_exporter": "python",
   "pygments_lexer": "ipython3",
   "version": "3.5.4"
  }
 },
 "nbformat": 4,
 "nbformat_minor": 2
}
