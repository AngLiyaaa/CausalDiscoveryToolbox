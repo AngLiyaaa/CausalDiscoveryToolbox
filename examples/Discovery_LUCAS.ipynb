{
 "cells": [
  {
   "cell_type": "markdown",
   "metadata": {},
   "source": [
    "# CGNN Example on the LUCAS (LUng CAncer Simple set) dataset \n",
    "## Numerical Dataset with the same structure as LUCAS.\n",
    "\n",
    "Source : www.causality.inf.ethz.ch/data/LUCAS.html\n",
    "\n",
    "The true dataset is the **lucas0_train.csv** file ; we use the **NUM_LUCAS.csv** file, representing a graph with continuous data which structure is the same as the true LUCAS dataset.\n",
    "**Goal** : Find the causal structure of the graph using CGNN, starting from the raw data."
   ]
  },
  {
   "cell_type": "code",
   "execution_count": 2,
   "metadata": {},
   "outputs": [],
   "source": [
    "#Import libraries\n",
    "import cdt\n",
    "import networkx as nx\n",
    "import time\n",
    "# A warning on R libraries might occur. It is for the use of the r libraries that could be imported into the framework\n",
    "import numpy as np\n",
    "import pandas as pd\n",
    "from matplotlib import pyplot as plt"
   ]
  },
  {
   "cell_type": "code",
   "execution_count": 3,
   "metadata": {
    "scrolled": true
   },
   "outputs": [
    {
     "data": {
      "image/png": "[encoded data removed]",
      "text/plain": [
       "<matplotlib.figure.Figure at 0x7fc7a42eb278>"
      ]
     },
     "metadata": {},
     "output_type": "display_data"
    },
    {
     "data": {
      "text/html": [
       "<div>\n",
       "<style scoped>\n",
       "    .dataframe tbody tr th:only-of-type {\n",
       "        vertical-align: middle;\n",
       "    }\n",
       "\n",
       "    .dataframe tbody tr th {\n",
       "        vertical-align: top;\n",
       "    }\n",
       "\n",
       "    .dataframe thead th {\n",
       "        text-align: right;\n",
       "    }\n",
       "</style>\n",
       "<table border=\"1\" class=\"dataframe\">\n",
       "  <thead>\n",
       "    <tr style=\"text-align: right;\">\n",
       "      <th></th>\n",
       "      <th>Allergy</th>\n",
       "      <th>Anxiety</th>\n",
       "      <th>Genetics</th>\n",
       "      <th>Peer_Pressure</th>\n",
       "      <th>Attention_Disorder</th>\n",
       "      <th>Smoking</th>\n",
       "      <th>Lung_Cancer</th>\n",
       "      <th>Yellow_Fingers</th>\n",
       "      <th>Coughing</th>\n",
       "      <th>Fatigue</th>\n",
       "      <th>Car_Accident</th>\n",
       "    </tr>\n",
       "  </thead>\n",
       "  <tbody>\n",
       "    <tr>\n",
       "      <th>0</th>\n",
       "      <td>-0.266076</td>\n",
       "      <td>0.460788</td>\n",
       "      <td>-0.359440</td>\n",
       "      <td>-0.403187</td>\n",
       "      <td>-0.228317</td>\n",
       "      <td>1.334455</td>\n",
       "      <td>0.574623</td>\n",
       "      <td>1.163336</td>\n",
       "      <td>0.982726</td>\n",
       "      <td>-0.840672</td>\n",
       "      <td>-0.508322</td>\n",
       "    </tr>\n",
       "    <tr>\n",
       "      <th>1</th>\n",
       "      <td>-0.579084</td>\n",
       "      <td>-0.846836</td>\n",
       "      <td>-0.295204</td>\n",
       "      <td>0.302683</td>\n",
       "      <td>-0.256269</td>\n",
       "      <td>-1.637193</td>\n",
       "      <td>-1.395067</td>\n",
       "      <td>0.154516</td>\n",
       "      <td>0.341314</td>\n",
       "      <td>0.933638</td>\n",
       "      <td>-1.075662</td>\n",
       "    </tr>\n",
       "    <tr>\n",
       "      <th>2</th>\n",
       "      <td>-0.105876</td>\n",
       "      <td>0.603170</td>\n",
       "      <td>-0.246007</td>\n",
       "      <td>-0.066926</td>\n",
       "      <td>-0.100983</td>\n",
       "      <td>0.500359</td>\n",
       "      <td>0.329122</td>\n",
       "      <td>0.199425</td>\n",
       "      <td>0.314847</td>\n",
       "      <td>-0.143226</td>\n",
       "      <td>-0.755328</td>\n",
       "    </tr>\n",
       "    <tr>\n",
       "      <th>3</th>\n",
       "      <td>0.727293</td>\n",
       "      <td>-0.949493</td>\n",
       "      <td>0.749637</td>\n",
       "      <td>-0.595794</td>\n",
       "      <td>0.809405</td>\n",
       "      <td>-0.586919</td>\n",
       "      <td>-0.130269</td>\n",
       "      <td>-0.840610</td>\n",
       "      <td>-0.691177</td>\n",
       "      <td>0.303761</td>\n",
       "      <td>-0.431910</td>\n",
       "    </tr>\n",
       "    <tr>\n",
       "      <th>4</th>\n",
       "      <td>-0.175018</td>\n",
       "      <td>-0.820478</td>\n",
       "      <td>-0.432949</td>\n",
       "      <td>-0.729511</td>\n",
       "      <td>-0.753609</td>\n",
       "      <td>-0.219810</td>\n",
       "      <td>-0.700120</td>\n",
       "      <td>-0.733240</td>\n",
       "      <td>-0.149308</td>\n",
       "      <td>0.854195</td>\n",
       "      <td>-0.633940</td>\n",
       "    </tr>\n",
       "  </tbody>\n",
       "</table>\n",
       "</div>"
      ],
      "text/plain": [
       "    Allergy   Anxiety  Genetics  Peer_Pressure  Attention_Disorder   Smoking  \\\n",
       "0 -0.266076  0.460788 -0.359440      -0.403187           -0.228317  1.334455   \n",
       "1 -0.579084 -0.846836 -0.295204       0.302683           -0.256269 -1.637193   \n",
       "2 -0.105876  0.603170 -0.246007      -0.066926           -0.100983  0.500359   \n",
       "3  0.727293 -0.949493  0.749637      -0.595794            0.809405 -0.586919   \n",
       "4 -0.175018 -0.820478 -0.432949      -0.729511           -0.753609 -0.219810   \n",
       "\n",
       "   Lung_Cancer  Yellow_Fingers  Coughing   Fatigue  Car_Accident  \n",
       "0     0.574623        1.163336  0.982726 -0.840672     -0.508322  \n",
       "1    -1.395067        0.154516  0.341314  0.933638     -1.075662  \n",
       "2     0.329122        0.199425  0.314847 -0.143226     -0.755328  \n",
       "3    -0.130269       -0.840610 -0.691177  0.303761     -0.431910  \n",
       "4    -0.700120       -0.733240 -0.149308  0.854195     -0.633940  "
      ]
     },
     "execution_count": 3,
     "metadata": {},
     "output_type": "execute_result"
    }
   ],
   "source": [
    "# Load data and graph solution\n",
    "data = pd.read_csv(\"NUM_LUCAS.csv\")\n",
    "solution = cdt.utils.read_list_edges(\"Lucas_graph.csv\")  \n",
    "nx.draw_networkx(solution, font_size=8) # The plot function allows for quick visualization of the graph. \n",
    "plt.show()\n",
    "data.head()"
   ]
  },
  {
   "cell_type": "code",
   "execution_count": null,
   "metadata": {},
   "outputs": [
    {
     "name": "stdout",
     "output_type": "stream",
     "text": [
      "--- Execution time : 9.56 seconds ---\n"
     ]
    },
    {
     "data": {
      "image/png": "[encoded data removed]",
      "text/plain": [
       "<matplotlib.figure.Figure at 0x7fc7ab05ee48>"
      ]
     },
     "metadata": {},
     "output_type": "display_data"
    },
    {
     "data": {
      "text/html": [
       "<div>\n",
       "<style scoped>\n",
       "    .dataframe tbody tr th:only-of-type {\n",
       "        vertical-align: middle;\n",
       "    }\n",
       "\n",
       "    .dataframe tbody tr th {\n",
       "        vertical-align: top;\n",
       "    }\n",
       "\n",
       "    .dataframe thead th {\n",
       "        text-align: right;\n",
       "    }\n",
       "</style>\n",
       "<table border=\"1\" class=\"dataframe\">\n",
       "  <thead>\n",
       "    <tr style=\"text-align: right;\">\n",
       "      <th></th>\n",
       "      <th>0</th>\n",
       "      <th>1</th>\n",
       "      <th>2</th>\n",
       "    </tr>\n",
       "  </thead>\n",
       "  <tbody>\n",
       "    <tr>\n",
       "      <th>0</th>\n",
       "      <td>Fatigue</td>\n",
       "      <td>Coughing</td>\n",
       "      <td>0.014733</td>\n",
       "    </tr>\n",
       "    <tr>\n",
       "      <th>1</th>\n",
       "      <td>Fatigue</td>\n",
       "      <td>Smoking</td>\n",
       "      <td>0.013933</td>\n",
       "    </tr>\n",
       "    <tr>\n",
       "      <th>2</th>\n",
       "      <td>Fatigue</td>\n",
       "      <td>Genetics</td>\n",
       "      <td>0.016301</td>\n",
       "    </tr>\n",
       "    <tr>\n",
       "      <th>3</th>\n",
       "      <td>Coughing</td>\n",
       "      <td>Smoking</td>\n",
       "      <td>0.028866</td>\n",
       "    </tr>\n",
       "    <tr>\n",
       "      <th>4</th>\n",
       "      <td>Lung_Cancer</td>\n",
       "      <td>Peer_Pressure</td>\n",
       "      <td>0.022968</td>\n",
       "    </tr>\n",
       "  </tbody>\n",
       "</table>\n",
       "</div>"
      ],
      "text/plain": [
       "             0              1         2\n",
       "0      Fatigue       Coughing  0.014733\n",
       "1      Fatigue        Smoking  0.013933\n",
       "2      Fatigue       Genetics  0.016301\n",
       "3     Coughing        Smoking  0.028866\n",
       "4  Lung_Cancer  Peer_Pressure  0.022968"
      ]
     },
     "execution_count": 4,
     "metadata": {},
     "output_type": "execute_result"
    }
   ],
   "source": [
    "# Finding the structure of the graph\n",
    "from cdt.independence.graph import FSGNN\n",
    "from cdt import SETTINGS\n",
    "Fsgnn = FSGNN()\n",
    "\n",
    "start_time = time.time()\n",
    "ugraph = Fsgnn.predict(data, train_epochs=20, test_epochs=20, threshold=1e-2, l1=0.006)\n",
    "print(\"--- Execution time : %4.4s seconds ---\" % (time.time() - start_time))\n",
    "nx.draw_networkx(ugraph, font_size=8) # The plot function allows for quick visualization of the graph.\n",
    "plt.show()\n",
    "# List results\n",
    "pd.DataFrame(list(ugraph.edges(data='weight')))"
   ]
  },
  {
   "cell_type": "code",
   "execution_count": null,
   "metadata": {},
   "outputs": [
    {
     "name": "stderr",
     "output_type": "stream",
     "text": [
      "The pairwise GNN model is computed on each edge of the UMG to initialize the model and start CGNN with a DAG\n"
     ]
    },
    {
     "name": "stdout",
     "output_type": "stream",
     "text": [
      "Idx:0 ; score:0.9602149724960327\n",
      "Idx:0 ; score:1.0293740034103394\n",
      "Idx:0 ; score:0.9536207914352417\n",
      "Idx:0 ; score:1.0265095233917236\n",
      "P-value after 2 runs : 0.056591937784233506\n",
      "Idx:0 ; score:0.8863538503646851\n",
      "Idx:0 ; score:1.0186728239059448\n",
      "Idx:0 ; score:0.8826505541801453\n",
      "Idx:0 ; score:1.0390230417251587\n",
      "P-value after 2 runs : 0.00983200664523777\n",
      "Idx:0 ; score:1.011049747467041\n",
      "Idx:0 ; score:1.0347954034805298\n",
      "Idx:0 ; score:1.0345722436904907\n",
      "Idx:0 ; score:1.026686429977417\n",
      "P-value after 2 runs : 0.8945074631978105\n",
      "Idx:0 ; score:0.8488649725914001\n",
      "Idx:0 ; score:1.1413555145263672\n",
      "Idx:0 ; score:0.8651672005653381\n",
      "Idx:0 ; score:1.1261643171310425\n",
      "P-value after 2 runs : 0.001348796614228317\n",
      "Idx:0 ; score:0.9867481589317322\n",
      "Idx:0 ; score:1.077951431274414\n",
      "Idx:0 ; score:0.9525208473205566\n",
      "Idx:0 ; score:1.0863996744155884\n"
     ]
    }
   ],
   "source": [
    "# Orient the edges of the graph\n",
    "from cdt.causality.graph import CGNN\n",
    "Cgnn = CGNN()\n",
    "start_time = time.time()\n",
    "dgraph = Cgnn.predict(data, graph=ugraph, nb_runs=1, nb_max_runs=1, train_epochs=2, test_epochs=2)\n",
    "print(\"--- Execution time : %4.4s seconds ---\" % (time.time() - start_time))\n",
    "\n",
    "# Plot the output graph\n",
    "nx.draw_networkx(dgraph, font_size=8) # The plot function allows for quick visualization of the graph. \n",
    "# Print output results : \n",
    "pd.DataFrame(list(dgraph.edges(data='weight')), columns=['Cause', 'Effect', 'Score'])"
   ]
  },
  {
   "cell_type": "code",
   "execution_count": null,
   "metadata": {},
   "outputs": [],
   "source": []
  },
  {
   "cell_type": "code",
   "execution_count": null,
   "metadata": {},
   "outputs": [],
   "source": []
  }
 ],
 "metadata": {
  "kernelspec": {
   "display_name": "Python 3",
   "language": "python",
   "name": "python3"
  },
  "language_info": {
   "codemirror_mode": {
    "name": "ipython",
    "version": 3
   },
   "file_extension": ".py",
   "mimetype": "text/x-python",
   "name": "python",
   "nbconvert_exporter": "python",
   "pygments_lexer": "ipython3",
   "version": "3.5.3"
  }
 },
 "nbformat": 4,
 "nbformat_minor": 2
}
